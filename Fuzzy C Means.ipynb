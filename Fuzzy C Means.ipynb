{
 "cells": [
  {
   "cell_type": "markdown",
   "metadata": {},
   "source": [
    "# Importing necessory libraries"
   ]
  },
  {
   "cell_type": "code",
   "execution_count": 1,
   "metadata": {},
   "outputs": [],
   "source": [
    "import numpy as np\n",
    "import pandas as pd\n",
    "import random\n",
    "from sklearn.datasets import load_iris\n",
    "from sklearn.metrics import precision_recall_fscore_support\n",
    "from sklearn.metrics import accuracy_score\n",
    "from fcmeans import FCM\n",
    "from sklearn.decomposition import PCA as sklearnPCA\n",
    "import matplotlib.pyplot as plt"
   ]
  },
  {
   "cell_type": "markdown",
   "metadata": {},
   "source": [
    "# Load IRIS Data"
   ]
  },
  {
   "cell_type": "code",
   "execution_count": 2,
   "metadata": {},
   "outputs": [],
   "source": [
    "iris=load_iris()\n",
    "X=iris.data\n",
    "y=iris.target"
   ]
  },
  {
   "cell_type": "markdown",
   "metadata": {},
   "source": [
    "# Dimensionality Reduction for Scatter Plot"
   ]
  },
  {
   "cell_type": "code",
   "execution_count": 3,
   "metadata": {},
   "outputs": [],
   "source": [
    "#We are using PCA to reduce dimensions of data and we are reducing it to 2 from 4.\n",
    "pca = sklearnPCA(n_components=2) #2-dimensional PCA\n",
    "pca_2d = pd.DataFrame(pca.fit_transform(X))"
   ]
  },
  {
   "cell_type": "markdown",
   "metadata": {},
   "source": [
    "# Scatter Plot for Actual clusters"
   ]
  },
  {
   "cell_type": "code",
   "execution_count": 4,
   "metadata": {},
   "outputs": [
    {
     "data": {
      "image/png": "[encoded data removed]",
      "text/plain": [
       "<Figure size 432x288 with 1 Axes>"
      ]
     },
     "metadata": {
      "needs_background": "light"
     },
     "output_type": "display_data"
    }
   ],
   "source": [
    "for i in range(0, pca_2d.shape[0]):\n",
    "    if iris.target[i] == 0:\n",
    "        c1 = plt.scatter(pca_2d[0][i],pca_2d[1][i],c='r',marker='+')\n",
    "    elif iris.target[i] == 1:\n",
    "        c2 = plt.scatter(pca_2d[0][i],pca_2d[1][i],c='g',marker='o')\n",
    "    elif iris.target[i] == 2:\n",
    "        c3 = plt.scatter(pca_2d[0][i],pca_2d[1][i],c='b',marker='*')\n",
    "plt.legend([c1, c2, c3], ['Setosa', 'Versicolor','Virginica'])\n",
    "plt.title('Originial Iris dataset with 3 clusters and known outcomes')\n",
    "plt.show()"
   ]
  },
  {
   "cell_type": "markdown",
   "metadata": {},
   "source": [
    "# Fuzzy C-Means Implementation"
   ]
  },
  {
   "cell_type": "markdown",
   "metadata": {},
   "source": [
    "### Weight matrix initalisation"
   ]
  },
  {
   "cell_type": "code",
   "execution_count": 5,
   "metadata": {},
   "outputs": [],
   "source": [
    "k=3\n",
    "weights=[]\n",
    "for i in range(len(X)):\n",
    "    remain=1\n",
    "    t=[]\n",
    "    for j in range(k-1):\n",
    "        t.append(random.uniform(0,remain))\n",
    "        remain-=t[j]\n",
    "    t.append(remain)\n",
    "    weights.append(t)"
   ]
  },
  {
   "cell_type": "markdown",
   "metadata": {},
   "source": [
    "### Clustering"
   ]
  },
  {
   "cell_type": "code",
   "execution_count": 6,
   "metadata": {},
   "outputs": [],
   "source": [
    "centroids=[[0 for _ in range(len(X[0]))] for _ in range(k)]\n",
    "m=2\n",
    "tolerance=0.4\n",
    "\n",
    "while True:\n",
    "    \n",
    "    #computing centroids for clusters\n",
    "    for i in range(k):\n",
    "        t=[]\n",
    "        for j in range(len(X[0])):\n",
    "            sn=0\n",
    "            sd=0\n",
    "            for x in range(len(X)):\n",
    "                sn+=X[x][j]*(weights[x][i]**m)\n",
    "                sd+=(weights[x][i]**m)\n",
    "            t.append(sn/sd)\n",
    "        centroids[i]=t\n",
    "    \n",
    "    # updating the weight matrix\n",
    "    new_weights=[[0 for _ in range(k)] for _ in range(len(X))]\n",
    "    p=1/(m-1)\n",
    "    for da in range(len(X)):\n",
    "        d=[]\n",
    "        for j in centroids:\n",
    "            d.append(np.linalg.norm(X[da]-j))\n",
    "        for l in range(k):\n",
    "            t=0\n",
    "            for n in range(k):\n",
    "                t+=(d[l]/d[n])**2\n",
    "            new_weights[da][l]=(1/(t**p))\n",
    "    \n",
    "    # checking if change in weight matrix is less than the tolerance value\n",
    "    diff=np.absolute(np.subtract(weights,new_weights))\n",
    "    count=0\n",
    "    for l in diff:\n",
    "        for n in l:\n",
    "            if n>=tolerance:\n",
    "                count+=1\n",
    "    if count==0:\n",
    "        break\n",
    "    weights=new_weights\n",
    "    \n",
    "# Getting cluster labels    \n",
    "preds=[]\n",
    "for i in weights:\n",
    "    max_val, idx = max((val, idx) for (idx, val) in enumerate(i))\n",
    "    preds.append(idx)"
   ]
  },
  {
   "cell_type": "markdown",
   "metadata": {},
   "source": [
    "### Performance"
   ]
  },
  {
   "cell_type": "code",
   "execution_count": 8,
   "metadata": {},
   "outputs": [
    {
     "name": "stdout",
     "output_type": "stream",
     "text": [
      "Accuracy : 0.8066666666666666\n",
      "Precision : 0.9044\n",
      "Recall : 0.8066666666666666\n",
      "F1 Score : 0.8263246149848222\n"
     ]
    }
   ],
   "source": [
    "result=precision_recall_fscore_support(preds,y, average='weighted')\n",
    "precision,recall,fscore=result[0],result[1],result[2]\n",
    "accuracy=accuracy_score(preds, y)\n",
    "\n",
    "print('Accuracy :',accuracy)\n",
    "print('Precision :',precision)\n",
    "print('Recall :',recall)\n",
    "print('F1 Score :',fscore)"
   ]
  },
  {
   "cell_type": "markdown",
   "metadata": {},
   "source": [
    "# Built-in Fuzzy C-Means "
   ]
  },
  {
   "cell_type": "code",
   "execution_count": 9,
   "metadata": {},
   "outputs": [],
   "source": [
    "#initialise Fuzzy c-means function\n",
    "fcm = FCM(n_clusters=3)\n",
    "\n",
    "#fitting data\n",
    "fcm.fit(X)\n",
    "\n",
    "# getting cluster centers and labels\n",
    "fcm_centers = fcm.centers\n",
    "fcm_labels  = fcm.u.argmax(axis=1)"
   ]
  },
  {
   "cell_type": "markdown",
   "metadata": {},
   "source": [
    "### Performance"
   ]
  },
  {
   "cell_type": "code",
   "execution_count": 10,
   "metadata": {},
   "outputs": [
    {
     "name": "stdout",
     "output_type": "stream",
     "text": [
      "Accuracy : 0.31333333333333335\n",
      "Precision : 0.376\n",
      "Recall : 0.31333333333333335\n",
      "F1 Score : 0.3418181818181818\n"
     ]
    }
   ],
   "source": [
    "result=precision_recall_fscore_support(fcm_labels,y, average='weighted')\n",
    "precision1,recall1,fscore1=result[0],result[1],result[2]\n",
    "accuracy1=accuracy_score(fcm_labels, y)\n",
    "\n",
    "print('Accuracy :',accuracy1)\n",
    "print('Precision :',precision1)\n",
    "print('Recall :',recall1)\n",
    "print('F1 Score :',fscore1)"
   ]
  },
  {
   "cell_type": "markdown",
   "metadata": {},
   "source": [
    "# Scatter Plot for Manual implementation"
   ]
  },
  {
   "cell_type": "code",
   "execution_count": 11,
   "metadata": {},
   "outputs": [
    {
     "data": {
      "image/png": "[encoded data removed]",
      "text/plain": [
       "<Figure size 432x288 with 1 Axes>"
      ]
     },
     "metadata": {
      "needs_background": "light"
     },
     "output_type": "display_data"
    }
   ],
   "source": [
    "for i in range(0, pca_2d.shape[0]):\n",
    "    if preds[i] == 0:\n",
    "        c1 = plt.scatter(pca_2d[0][i],pca_2d[1][i],c='r',marker='+')\n",
    "    elif preds[i] == 1:\n",
    "        c2 = plt.scatter(pca_2d[0][i],pca_2d[1][i],c='g',marker='o')\n",
    "    elif preds[i] == 2:\n",
    "        c3 = plt.scatter(pca_2d[0][i],pca_2d[1][i],c='b',marker='*')\n",
    "plt.legend([c1, c2, c3], ['Setosa', 'Versicolor','Virginica'])\n",
    "plt.title('Originial Iris dataset with 3 clusters and known outcomes')\n",
    "plt.show()"
   ]
  },
  {
   "cell_type": "markdown",
   "metadata": {},
   "source": [
    "# Scatter Plot for Built-in Fuzzy c-means"
   ]
  },
  {
   "cell_type": "code",
   "execution_count": 12,
   "metadata": {},
   "outputs": [
    {
     "data": {
      "image/png": "[encoded data removed]",
      "text/plain": [
       "<Figure size 432x288 with 1 Axes>"
      ]
     },
     "metadata": {
      "needs_background": "light"
     },
     "output_type": "display_data"
    }
   ],
   "source": [
    "for i in range(0, pca_2d.shape[0]):\n",
    "    if fcm_labels[i] == 0:\n",
    "        c1 = plt.scatter(pca_2d[0][i],pca_2d[1][i],c='r',marker='+')\n",
    "    elif fcm_labels[i] == 1:\n",
    "        c2 = plt.scatter(pca_2d[0][i],pca_2d[1][i],c='g',marker='o')\n",
    "    elif fcm_labels[i] == 2:\n",
    "        c3 = plt.scatter(pca_2d[0][i],pca_2d[1][i],c='b',marker='*')\n",
    "plt.legend([c1, c2, c3], ['Setosa', 'Versicolor','Virginica'])\n",
    "plt.title('Originial Iris dataset with 3 clusters and known outcomes')\n",
    "plt.show()"
   ]
  },
  {
   "cell_type": "markdown",
   "metadata": {},
   "source": [
    "# Observations"
   ]
  },
  {
   "cell_type": "markdown",
   "metadata": {},
   "source": [
    "1. Manual implemenation shows better performance than buil-in on the basis on performance metrics.\n",
    "2. Cluster formation is better in built-in method.\n",
    "3. Though cluster label mismatch is there for built-in, but clusters are almost similar to original ones."
   ]
  }
 ],
 "metadata": {
  "kernelspec": {
   "display_name": "Python 3",
   "language": "python",
   "name": "python3"
  },
  "language_info": {
   "codemirror_mode": {
    "name": "ipython",
    "version": 3
   },
   "file_extension": ".py",
   "mimetype": "text/x-python",
   "name": "python",
   "nbconvert_exporter": "python",
   "pygments_lexer": "ipython3",
   "version": "3.7.4"
  }
 },
 "nbformat": 4,
 "nbformat_minor": 2
}
