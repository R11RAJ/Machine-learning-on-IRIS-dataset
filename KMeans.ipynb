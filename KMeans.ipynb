{
 "cells": [
  {
   "cell_type": "markdown",
   "metadata": {},
   "source": [
    "# Importing necessory Libraries"
   ]
  },
  {
   "cell_type": "code",
   "execution_count": 1,
   "metadata": {},
   "outputs": [],
   "source": [
    "import numpy as np\n",
    "import pandas as pd\n",
    "import random\n",
    "from sklearn.datasets import load_iris\n",
    "from sklearn.cluster import KMeans\n",
    "from sklearn.metrics import precision_recall_fscore_support\n",
    "from sklearn.metrics.pairwise import euclidean_distances\n",
    "from sklearn.metrics import accuracy_score\n",
    "import matplotlib.pyplot as plt\n",
    "from fcmeans import FCM"
   ]
  },
  {
   "cell_type": "markdown",
   "metadata": {},
   "source": [
    "# Loading IRIS dataset"
   ]
  },
  {
   "cell_type": "code",
   "execution_count": 2,
   "metadata": {},
   "outputs": [],
   "source": [
    "iris=load_iris()\n",
    "X=iris.data\n",
    "y=iris.target"
   ]
  },
  {
   "cell_type": "markdown",
   "metadata": {},
   "source": [
    "# Reducing dimensionality to Visualize data"
   ]
  },
  {
   "cell_type": "code",
   "execution_count": 40,
   "metadata": {},
   "outputs": [],
   "source": [
    "from sklearn.decomposition import PCA as sklearnPCA\n",
    "import matplotlib.pyplot as plt\n",
    "\n",
    "#We are using PCA to reduce dimensions of data and we are reducing it to 2 from 4.\n",
    "pca = sklearnPCA(n_components=2) #2-dimensional PCA\n",
    "pca_2d = pd.DataFrame(pca.fit_transform(X))"
   ]
  },
  {
   "cell_type": "markdown",
   "metadata": {},
   "source": [
    "# K-Means Algorithm Implementation"
   ]
  },
  {
   "cell_type": "code",
   "execution_count": 65,
   "metadata": {},
   "outputs": [
    {
     "name": "stdout",
     "output_type": "stream",
     "text": [
      "Done\n"
     ]
    }
   ],
   "source": [
    "#number of clusters to be formed\n",
    "k=3\n",
    "\n",
    "#initial k samples drawn as initial centroids for clusters to be formed\n",
    "centroids=random.sample(list(X),k)\n",
    "\n",
    "#loop to find clusters\n",
    "while True:\n",
    "    #new cluster labels for data\n",
    "    labels=[]\n",
    "    \n",
    "    #finding a label for data using minimum euclidean distance between data point and centroids\n",
    "    for i in X:\n",
    "        dist=[]\n",
    "        c=0\n",
    "        for j in centroids:\n",
    "            dist.append((c,np.linalg.norm(i-j)))\n",
    "            c+=1\n",
    "        m=min(dist,key=lambda x:x[1])\n",
    "        labels.append(m[0])\n",
    "\n",
    "    #list for new centroids\n",
    "    new_centroids=[[0 for n in range(4)] for j in range(k)]\n",
    "\n",
    "    #data point count for each cluster\n",
    "    vc=[0 for j in range(k)]\n",
    "    \n",
    "    #counting and adding data points for each cluster\n",
    "    for i in range(len(labels)):\n",
    "        new_centroids[labels[i]]=np.add(new_centroids[labels[i]],X[i])\n",
    "        vc[labels[i]]+=1\n",
    "    \n",
    "    #finding new cluster centroids\n",
    "    for i in range(len(new_centroids)):\n",
    "        new_centroids[i]/=vc[i]\n",
    "    \n",
    "    #checking if old and new centroids are equal or not\n",
    "    count=0\n",
    "    for i in range(len(new_centroids)):\n",
    "        if all(new_centroids[i]==centroids[i]):\n",
    "            count+=1\n",
    "    if count==k:\n",
    "        break\n",
    "        \n",
    "    #setting new centroids as cluster centroids\n",
    "    centroids=new_centroids\n",
    "    \n",
    "print('Done')"
   ]
  },
  {
   "cell_type": "markdown",
   "metadata": {},
   "source": [
    "### Performance Metrics"
   ]
  },
  {
   "cell_type": "code",
   "execution_count": 6,
   "metadata": {},
   "outputs": [
    {
     "name": "stdout",
     "output_type": "stream",
     "text": [
      "Accuracy : 0.58\n",
      "Precision : 0.7964000000000001\n",
      "Recall : 0.58\n",
      "F1 Score : 0.6290705713070301\n"
     ]
    }
   ],
   "source": [
    "result=precision_recall_fscore_support(labels,y, average='weighted')\n",
    "precision,recall,fscore=result[0],result[1],result[2]\n",
    "accuracy=accuracy_score(labels, y)\n",
    "\n",
    "print('Accuracy :',accuracy)\n",
    "print('Precision :',precision)\n",
    "print('Recall :',recall)\n",
    "print('F1 Score :',fscore)"
   ]
  },
  {
   "cell_type": "markdown",
   "metadata": {},
   "source": [
    "# Using in-built KMeans function"
   ]
  },
  {
   "cell_type": "code",
   "execution_count": 58,
   "metadata": {},
   "outputs": [],
   "source": [
    "#Clustering using built-in function\n",
    "kmeans = KMeans(n_clusters=3, random_state=0).fit(X)\n",
    "actual=y"
   ]
  },
  {
   "cell_type": "markdown",
   "metadata": {},
   "source": [
    "### Performance Metrics"
   ]
  },
  {
   "cell_type": "code",
   "execution_count": 59,
   "metadata": {},
   "outputs": [
    {
     "name": "stdout",
     "output_type": "stream",
     "text": [
      "Accuracy : 0.24\n",
      "Precision : 0.1824\n",
      "Recall : 0.24\n",
      "F1 Score : 0.20727272727272728\n"
     ]
    }
   ],
   "source": [
    "result=precision_recall_fscore_support(kmeans.labels_,actual, average='weighted')\n",
    "accuracy1=accuracy_score(kmeans.labels_, actual)\n",
    "precision1,recall1,fscore1=result[0],result[1],result[2]\n",
    "\n",
    "print('Accuracy :',accuracy1)\n",
    "print('Precision :',precision1)\n",
    "print('Recall :',recall1)\n",
    "print('F1 Score :',fscore1)"
   ]
  },
  {
   "cell_type": "markdown",
   "metadata": {},
   "source": [
    "# Scatter Plots"
   ]
  },
  {
   "cell_type": "markdown",
   "metadata": {},
   "source": [
    "### Original Labels"
   ]
  },
  {
   "cell_type": "code",
   "execution_count": 64,
   "metadata": {
    "scrolled": true
   },
   "outputs": [
    {
     "data": {
      "image/png": "[encoded data removed]",
      "text/plain": [
       "<Figure size 432x288 with 1 Axes>"
      ]
     },
     "metadata": {
      "needs_background": "light"
     },
     "output_type": "display_data"
    }
   ],
   "source": [
    "for i in range(0, pca_2d.shape[0]):\n",
    "    if iris.target[i] == 0:\n",
    "        c1 = plt.scatter(pca_2d[0][i],pca_2d[1][i],c='r',marker='+')\n",
    "    elif iris.target[i] == 1:\n",
    "        c2 = plt.scatter(pca_2d[0][i],pca_2d[1][i],c='g',marker='o')\n",
    "    elif iris.target[i] == 2:\n",
    "        c3 = plt.scatter(pca_2d[0][i],pca_2d[1][i],c='b',marker='*')\n",
    "plt.legend([c1, c2, c3], ['Setosa', 'Versicolor','Virginica'])\n",
    "plt.title('Originial Iris dataset with 3 clusters and known outcomes')\n",
    "plt.show()"
   ]
  },
  {
   "cell_type": "markdown",
   "metadata": {},
   "source": [
    "### K-Means implementation labels"
   ]
  },
  {
   "cell_type": "code",
   "execution_count": 66,
   "metadata": {},
   "outputs": [
    {
     "data": {
      "image/png": "[encoded data removed]",
      "text/plain": [
       "<Figure size 432x288 with 1 Axes>"
      ]
     },
     "metadata": {
      "needs_background": "light"
     },
     "output_type": "display_data"
    }
   ],
   "source": [
    "for i in range(0, pca_2d.shape[0]):\n",
    "    if labels[i] == 0:\n",
    "        c1 = plt.scatter(pca_2d[0][i],pca_2d[1][i],c='r',marker='+')\n",
    "    elif labels[i] == 1:\n",
    "        c2 = plt.scatter(pca_2d[0][i],pca_2d[1][i],c='g',marker='o')\n",
    "    elif labels[i] == 2:\n",
    "        c3 = plt.scatter(pca_2d[0][i],pca_2d[1][i],c='b',marker='*')\n",
    "plt.legend([c1, c2, c3], ['Setosa', 'Versicolor','Virginica'])\n",
    "plt.title('Using KMeans Implementation')\n",
    "plt.show()"
   ]
  },
  {
   "cell_type": "markdown",
   "metadata": {},
   "source": [
    "### Built-in Kmeans labels"
   ]
  },
  {
   "cell_type": "code",
   "execution_count": 62,
   "metadata": {},
   "outputs": [
    {
     "data": {
      "image/png": "[encoded data removed]",
      "text/plain": [
       "<Figure size 432x288 with 1 Axes>"
      ]
     },
     "metadata": {
      "needs_background": "light"
     },
     "output_type": "display_data"
    }
   ],
   "source": [
    "for i in range(0, pca_2d.shape[0]):\n",
    "    if kmeans.labels_[i] == 0:\n",
    "        c1 = plt.scatter(pca_2d[0][i],pca_2d[1][i],c='r',marker='+')\n",
    "    elif kmeans.labels_[i] == 1:\n",
    "        c2 = plt.scatter(pca_2d[0][i],pca_2d[1][i],c='g',marker='o')\n",
    "    elif kmeans.labels_[i] == 2:\n",
    "        c3 = plt.scatter(pca_2d[0][i],pca_2d[1][i],c='b',marker='*')\n",
    "plt.legend([c1, c2, c3], ['Setosa', 'Versicolor','Virginica'])\n",
    "plt.title('Using built-in KMeans function')\n",
    "plt.show()"
   ]
  },
  {
   "cell_type": "markdown",
   "metadata": {},
   "source": [
    "# Observations"
   ]
  },
  {
   "cell_type": "markdown",
   "metadata": {},
   "source": [
    "1. Both manual and built-in implementations works fine and produce good results.\n",
    "2. Although performance metrics of nuilt-in KMeans doesn't match with the above point but clusters formed are quite identical to the original.\n",
    "3. Clusters forming in manual implementation may not always be same when run multiple time it is due to the fact that we taking random K samples.\n",
    "4. In built-in kmeans visualisation there's label mismatch but the overall cluster shape and size is almost similar to original. "
   ]
  }
 ],
 "metadata": {
  "kernelspec": {
   "display_name": "Python 3",
   "language": "python",
   "name": "python3"
  },
  "language_info": {
   "codemirror_mode": {
    "name": "ipython",
    "version": 3
   },
   "file_extension": ".py",
   "mimetype": "text/x-python",
   "name": "python",
   "nbconvert_exporter": "python",
   "pygments_lexer": "ipython3",
   "version": "3.7.4"
  }
 },
 "nbformat": 4,
 "nbformat_minor": 2
}
