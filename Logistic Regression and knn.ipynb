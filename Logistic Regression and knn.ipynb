{
 "cells": [
  {
   "cell_type": "markdown",
   "metadata": {},
   "source": [
    "# Importing necessory libraries"
   ]
  },
  {
   "cell_type": "code",
   "execution_count": 1,
   "metadata": {},
   "outputs": [],
   "source": [
    "import numpy as np\n",
    "import pandas as pd\n",
    "from sklearn.neighbors import KNeighborsClassifier\n",
    "from sklearn import datasets\n",
    "from sklearn.model_selection import train_test_split\n",
    "from sklearn.linear_model import LogisticRegression"
   ]
  },
  {
   "cell_type": "markdown",
   "metadata": {},
   "source": [
    "# Load the data"
   ]
  },
  {
   "cell_type": "code",
   "execution_count": 2,
   "metadata": {},
   "outputs": [],
   "source": [
    "X=datasets.load_iris()['data']\n",
    "y=datasets.load_iris()['target']"
   ]
  },
  {
   "cell_type": "markdown",
   "metadata": {},
   "source": [
    "# Observations"
   ]
  },
  {
   "cell_type": "markdown",
   "metadata": {},
   "source": [
    "1. Data was splitted into 40:10 ratio for training and testing. In the earlier assignments , I did it manually using my own code but this time I have used train-test split function from sklearn library.\n",
    "2. Stratify parameter was used and was assigned with train data class labels to have a balanced split i.e.test data having equal number of data for each class label.   \n",
    "3. k-NN was implemented earlier assignment so this time to keep it simple I have used the inbuilt function from sklearn.\n",
    "4. Accuracy achieved was excellent and four different k values were used.\n",
    "5. Logistic regression was applied with parameters multi_class='auto' and solver='lbfgs'.\n",
    "6. It gave an accuracy of 0.96 which is pretty good almost ideal."
   ]
  },
  {
   "cell_type": "markdown",
   "metadata": {},
   "source": [
    "# Q1.Train - Test data split"
   ]
  },
  {
   "cell_type": "code",
   "execution_count": 3,
   "metadata": {},
   "outputs": [
    {
     "name": "stdout",
     "output_type": "stream",
     "text": [
      "Total number of records: 150\n",
      "Number of records in Train data: 120\n",
      "Number of records in Test data: 30\n"
     ]
    }
   ],
   "source": [
    "X_train, X_test, y_train, y_test = train_test_split(X, y, test_size=0.2, random_state=42,stratify=y)\n",
    "print(\"Total number of records:\",len(X))\n",
    "print(\"Number of records in Train data:\",len(X_train))\n",
    "print(\"Number of records in Test data:\",len(X_test))"
   ]
  },
  {
   "cell_type": "markdown",
   "metadata": {},
   "source": [
    "# Q2. Applying KNN algorithm"
   ]
  },
  {
   "cell_type": "code",
   "execution_count": 4,
   "metadata": {},
   "outputs": [
    {
     "name": "stdout",
     "output_type": "stream",
     "text": [
      "k = 3\n",
      "Accuracy: 1.0 \n",
      "\n",
      "k = 5\n",
      "Accuracy: 1.0 \n",
      "\n",
      "k = 7\n",
      "Accuracy: 1.0 \n",
      "\n",
      "k = 11\n",
      "Accuracy: 1.0 \n",
      "\n"
     ]
    }
   ],
   "source": [
    "for i in [3,5,7,11]:\n",
    "    print(\"k =\",i)\n",
    "    knn = KNeighborsClassifier(n_neighbors=3)\n",
    "    knn.fit(X_train,y_train)\n",
    "    print(\"Accuracy:\",knn.score(X_test,y_test),'\\n')"
   ]
  },
  {
   "cell_type": "markdown",
   "metadata": {},
   "source": [
    "# Q3. Applying Logistic regression"
   ]
  },
  {
   "cell_type": "code",
   "execution_count": 5,
   "metadata": {},
   "outputs": [
    {
     "name": "stdout",
     "output_type": "stream",
     "text": [
      "Accuracy: 0.9666666666666667\n"
     ]
    }
   ],
   "source": [
    "log_reg = LogisticRegression(multi_class='auto',random_state=0,solver='lbfgs').fit(X_train, y_train)\n",
    "print(\"Accuracy:\",log_reg.score(X_test,y_test))"
   ]
  }
 ],
 "metadata": {
  "kernelspec": {
   "display_name": "Python 3",
   "language": "python",
   "name": "python3"
  },
  "language_info": {
   "codemirror_mode": {
    "name": "ipython",
    "version": 3
   },
   "file_extension": ".py",
   "mimetype": "text/x-python",
   "name": "python",
   "nbconvert_exporter": "python",
   "pygments_lexer": "ipython3",
   "version": "3.7.4"
  }
 },
 "nbformat": 4,
 "nbformat_minor": 2
}
