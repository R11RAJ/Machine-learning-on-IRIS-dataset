{
 "cells": [
  {
   "cell_type": "markdown",
   "metadata": {},
   "source": [
    "# Importing necessory librabries"
   ]
  },
  {
   "cell_type": "code",
   "execution_count": 92,
   "metadata": {},
   "outputs": [],
   "source": [
    "import numpy as np\n",
    "import pandas as pd\n",
    "import random\n",
    "from sklearn.naive_bayes import GaussianNB\n",
    "from statistics import mode"
   ]
  },
  {
   "cell_type": "markdown",
   "metadata": {},
   "source": [
    "## Q1"
   ]
  },
  {
   "cell_type": "markdown",
   "metadata": {},
   "source": [
    "Check suitability of naïve-bayes classifier on IRIS data from UCI Machine Learning Repository. Consider 40 samples from each class as training data, use remaining 10 from each class as testing data. Repeat the experiment 10 times and calculate the average accuracy."
   ]
  },
  {
   "cell_type": "markdown",
   "metadata": {},
   "source": [
    "### Data Preprocessing"
   ]
  },
  {
   "cell_type": "code",
   "execution_count": 2,
   "metadata": {},
   "outputs": [],
   "source": [
    "file=open('iris.data')\n",
    "setosa=[]\n",
    "versicolor=[]\n",
    "virginica=[]\n",
    "\n",
    "for i in file:\n",
    "    t=i.split(',')\n",
    "    t[-1]=t[-1][:-1]\n",
    "    if len(t)==0:\n",
    "        break\n",
    "    if t[-1]=='Iris-virginica':\n",
    "        t[-1]=3\n",
    "        virginica.append(t)\n",
    "    elif t[-1]=='Iris-versicolor':\n",
    "        t[-1]=2\n",
    "        versicolor.append(t)\n",
    "    else:\n",
    "        t[-1]=1\n",
    "        setosa.append(t)\n",
    "setosa=setosa[:-1]"
   ]
  },
  {
   "cell_type": "markdown",
   "metadata": {},
   "source": [
    "### 10 iterations of naive-bayes classifier"
   ]
  },
  {
   "cell_type": "code",
   "execution_count": 61,
   "metadata": {},
   "outputs": [
    {
     "name": "stdout",
     "output_type": "stream",
     "text": [
      "Accuracy of iteration 1 : 96.55172413793103\n",
      "Accuracy of iteration 2 : 100.0\n",
      "Accuracy of iteration 3 : 93.33333333333333\n",
      "Accuracy of iteration 4 : 93.10344827586206\n",
      "Accuracy of iteration 5 : 96.66666666666667\n",
      "Accuracy of iteration 6 : 92.5925925925926\n",
      "Accuracy of iteration 7 : 93.33333333333333\n",
      "Accuracy of iteration 8 : 96.55172413793103\n",
      "Accuracy of iteration 9 : 100.0\n",
      "Accuracy of iteration 10 : 93.10344827586206\n",
      "\n",
      "Average Accuracy : 95.52362707535121\n"
     ]
    }
   ],
   "source": [
    "avg=0.0\n",
    "for j in range(10):\n",
    "    t=[]\n",
    "    t=random.sample(setosa, 40)+random.sample(versicolor, 40)+random.sample(virginica, 40)\n",
    "    \n",
    "    s=[]\n",
    "    for i in setosa:\n",
    "        if i not in t:\n",
    "            s.append(i)\n",
    "    for i in versicolor:\n",
    "        if i not in t:\n",
    "            s.append(i)\n",
    "    for i in virginica:\n",
    "        if i not in t:\n",
    "            s.append(i)\n",
    "\n",
    "    t=np.array(t)\n",
    "    s=np.array(s)\n",
    "\n",
    "    x_train=t[:,:4]\n",
    "    y_train=t[:,4]\n",
    "    x_test=s[:,:4]\n",
    "    y_test=s[:,4]\n",
    "\n",
    "    x_train=x_train.astype('d')\n",
    "    x_test=x_test.astype('d')\n",
    "    y_train=y_train.astype('d')\n",
    "    y_test=y_test.astype('d')\n",
    "\n",
    "    gnb = GaussianNB()\n",
    "\n",
    "    y_pred = gnb.fit(x_train,y_train).predict(x_test)\n",
    "\n",
    "    same=0\n",
    "    for i in range(len(y_pred)):\n",
    "        if y_pred[i]==y_test[i]:\n",
    "                same+=1\n",
    "                \n",
    "    print(\"Accuracy of iteration\",j+1,\":\",same/len(y_pred)*100)\n",
    "    avg+=same/len(y_pred)*100\n",
    "\n",
    "print(\"\\nAverage Accuracy :\",avg/10)"
   ]
  },
  {
   "cell_type": "markdown",
   "metadata": {},
   "source": [
    "## Q2"
   ]
  },
  {
   "cell_type": "markdown",
   "metadata": {},
   "source": [
    "Implement k-NN classifier and use it for IRIS data with k = 1, 3, 5 and 11. Repeat the experiment 10 times and calculate the average accuracy."
   ]
  },
  {
   "cell_type": "markdown",
   "metadata": {},
   "source": [
    "### Data Preprocessing"
   ]
  },
  {
   "cell_type": "code",
   "execution_count": 59,
   "metadata": {},
   "outputs": [],
   "source": [
    "file=open('iris.data')\n",
    "setosa=[]\n",
    "versicolor=[]\n",
    "virginica=[]\n",
    "\n",
    "for i in file:\n",
    "    t=i.split(',')\n",
    "    t[-1]=t[-1][:-1]\n",
    "    if len(t)==0:\n",
    "        break\n",
    "    if t[-1]=='Iris-virginica':\n",
    "        t[-1]=3\n",
    "        virginica.append(t)\n",
    "    elif t[-1]=='Iris-versicolor':\n",
    "        t[-1]=2\n",
    "        versicolor.append(t)\n",
    "    else:\n",
    "        t[-1]=1\n",
    "        setosa.append(t)\n",
    "setosa=setosa[:-1]"
   ]
  },
  {
   "cell_type": "markdown",
   "metadata": {},
   "source": [
    "### Function declaration for finding votes in k neighbourhood"
   ]
  },
  {
   "cell_type": "code",
   "execution_count": 116,
   "metadata": {},
   "outputs": [],
   "source": [
    "def most_frequent(List): \n",
    "    dict = {} \n",
    "    count, itm = 0, '' \n",
    "    for item in reversed(List): \n",
    "        dict[item[1]] = dict.get(item[1], 0) + 1\n",
    "        if dict[item[1]] >= count : \n",
    "            count, itm = dict[item[1]], item[1] \n",
    "    return(itm)"
   ]
  },
  {
   "cell_type": "markdown",
   "metadata": {},
   "source": [
    "## KNN Implementation"
   ]
  },
  {
   "cell_type": "markdown",
   "metadata": {},
   "source": [
    "### 10 iterations of KNN with four different k values"
   ]
  },
  {
   "cell_type": "code",
   "execution_count": 140,
   "metadata": {},
   "outputs": [
    {
     "name": "stdout",
     "output_type": "stream",
     "text": [
      "\n",
      "For K= 1 \n",
      "\n",
      "Accuracy of iteration 1 : 100.0\n",
      "Accuracy of iteration 2 : 96.66666666666667\n",
      "Accuracy of iteration 3 : 96.66666666666667\n",
      "Accuracy of iteration 4 : 93.33333333333333\n",
      "Accuracy of iteration 5 : 96.55172413793103\n",
      "Accuracy of iteration 6 : 96.66666666666667\n",
      "Accuracy of iteration 7 : 93.10344827586206\n",
      "Accuracy of iteration 8 : 89.65517241379311\n",
      "Accuracy of iteration 9 : 93.33333333333333\n",
      "Accuracy of iteration 10 : 89.65517241379311\n",
      "\n",
      "Average Accuracy : 94.56321839080462\n",
      "\n",
      "For K= 3 \n",
      "\n",
      "Accuracy of iteration 1 : 92.85714285714286\n",
      "Accuracy of iteration 2 : 96.66666666666667\n",
      "Accuracy of iteration 3 : 92.85714285714286\n",
      "Accuracy of iteration 4 : 93.33333333333333\n",
      "Accuracy of iteration 5 : 96.66666666666667\n",
      "Accuracy of iteration 6 : 96.66666666666667\n",
      "Accuracy of iteration 7 : 92.85714285714286\n",
      "Accuracy of iteration 8 : 93.33333333333333\n",
      "Accuracy of iteration 9 : 96.55172413793103\n",
      "Accuracy of iteration 10 : 96.55172413793103\n",
      "\n",
      "Average Accuracy : 94.83415435139574\n",
      "\n",
      "For K= 5 \n",
      "\n",
      "Accuracy of iteration 1 : 100.0\n",
      "Accuracy of iteration 2 : 93.33333333333333\n",
      "Accuracy of iteration 3 : 100.0\n",
      "Accuracy of iteration 4 : 100.0\n",
      "Accuracy of iteration 5 : 100.0\n",
      "Accuracy of iteration 6 : 93.33333333333333\n",
      "Accuracy of iteration 7 : 96.55172413793103\n",
      "Accuracy of iteration 8 : 96.55172413793103\n",
      "Accuracy of iteration 9 : 100.0\n",
      "Accuracy of iteration 10 : 93.33333333333333\n",
      "\n",
      "Average Accuracy : 97.3103448275862\n",
      "\n",
      "For K= 11 \n",
      "\n",
      "Accuracy of iteration 1 : 96.55172413793103\n",
      "Accuracy of iteration 2 : 96.55172413793103\n",
      "Accuracy of iteration 3 : 100.0\n",
      "Accuracy of iteration 4 : 96.55172413793103\n",
      "Accuracy of iteration 5 : 96.55172413793103\n",
      "Accuracy of iteration 6 : 100.0\n",
      "Accuracy of iteration 7 : 100.0\n",
      "Accuracy of iteration 8 : 100.0\n",
      "Accuracy of iteration 9 : 100.0\n",
      "Accuracy of iteration 10 : 96.66666666666667\n",
      "\n",
      "Average Accuracy : 98.28735632183908\n"
     ]
    }
   ],
   "source": [
    "for k in [1,3,5,11]: \n",
    "    avg=0.0\n",
    "    \n",
    "    print(\"\\nFor K=\",k,'\\n')\n",
    "    \n",
    "    for n in range(10):\n",
    "        t=[]\n",
    "        t=random.sample(setosa, 40)+random.sample(versicolor, 40)+random.sample(virginica, 40)\n",
    "\n",
    "        s=[]\n",
    "        for i in setosa:\n",
    "            if i not in t:\n",
    "                s.append(i)\n",
    "        for i in versicolor:\n",
    "            if i not in t:\n",
    "                s.append(i)\n",
    "        for i in virginica:\n",
    "            if i not in t:\n",
    "                s.append(i)\n",
    "\n",
    "        t=np.array(t)\n",
    "        s=np.array(s)\n",
    "        t=t.astype('d')\n",
    "        s=s.astype('d')\n",
    "\n",
    "        x_test=s[:,:4]\n",
    "        y_test=s[:,4]\n",
    "\n",
    "        x_test=x_test.astype('d')\n",
    "        y_test=y_test.astype('d')\n",
    "\n",
    "        y_pred=[]\n",
    "        for i in x_test:\n",
    "            dis=[]\n",
    "            for j in t:\n",
    "                dis.append([np.sqrt((i[0]-j[0])**2+(i[1]-j[1])**2+(i[2]-j[2])**2+(i[3]-j[3])**2),j[-1]])\n",
    "            dis.sort(key=lambda x:x[0])\n",
    "            y_pred.append(most_frequent(dis[:k]))\n",
    "\n",
    "        same=0\n",
    "        for i in range(len(y_pred)):\n",
    "            if y_pred[i]==y_test[i]:\n",
    "                    same+=1\n",
    "\n",
    "        print(\"Accuracy of iteration\",n+1,\":\",same/len(y_pred)*100)\n",
    "        avg+=same/len(y_pred)*100\n",
    "\n",
    "\n",
    "    print(\"\\nAverage Accuracy :\",avg/10)"
   ]
  }
 ],
 "metadata": {
  "kernelspec": {
   "display_name": "Python 3",
   "language": "python",
   "name": "python3"
  },
  "language_info": {
   "codemirror_mode": {
    "name": "ipython",
    "version": 3
   },
   "file_extension": ".py",
   "mimetype": "text/x-python",
   "name": "python",
   "nbconvert_exporter": "python",
   "pygments_lexer": "ipython3",
   "version": "3.7.4"
  }
 },
 "nbformat": 4,
 "nbformat_minor": 2
}
